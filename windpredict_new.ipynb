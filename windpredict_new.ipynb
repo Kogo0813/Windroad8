{
  "cells": [
    {
      "cell_type": "markdown",
      "metadata": {
        "id": "view-in-github",
        "colab_type": "text"
      },
      "source": [
        "<a href=\"https://colab.research.google.com/github/Kogo0813/Windroad8/blob/main/windpredict_new.ipynb\" target=\"_parent\"><img src=\"https://colab.research.google.com/assets/colab-badge.svg\" alt=\"Open In Colab\"/></a>"
      ]
    },
    {
      "cell_type": "code",
      "execution_count": 2,
      "metadata": {
        "colab": {
          "base_uri": "https://localhost:8080/"
        },
        "id": "7YCezYnaOXLx",
        "outputId": "83cd6662-b57d-4f22-b287-290b87c30f6e"
      },
      "outputs": [
        {
          "output_type": "stream",
          "name": "stdout",
          "text": [
            "10.92.187.138:8470\n"
          ]
        }
      ],
      "source": [
        "!echo $COLAB_TPU_ADDR #코랩에서 런타임->런타임 유형 변경 -> TPU로 변경"
      ]
    },
    {
      "cell_type": "code",
      "execution_count": 3,
      "metadata": {
        "colab": {
          "base_uri": "https://localhost:8080/"
        },
        "id": "NemE-454OY56",
        "outputId": "93a6a0dd-ff16-4ae9-a02d-188b7ba32da8"
      },
      "outputs": [
        {
          "output_type": "execute_result",
          "data": {
            "text/plain": [
              "<tensorflow.python.tpu.topology.Topology at 0x7fdc517eb730>"
            ]
          },
          "metadata": {},
          "execution_count": 3
        }
      ],
      "source": [
        "import os\n",
        "import numpy as np\n",
        "import pandas as pd\n",
        "import matplotlib.pyplot as plt\n",
        "import tensorflow as tf\n",
        "from tensorflow import keras\n",
        "from tensorflow.keras import layers\n",
        "from osgeo import gdal\n",
        "\n",
        "# TPU gRPC 접근 URI\n",
        "TPU_PATH = f\"grpc://{os.environ['COLAB_TPU_ADDR']}\"\n",
        "resolver = tf.distribute.cluster_resolver.TPUClusterResolver(tpu=TPU_PATH)\n",
        "tf.config.experimental_connect_to_cluster(resolver)\n",
        "tf.tpu.experimental.initialize_tpu_system(resolver)"
      ]
    },
    {
      "cell_type": "code",
      "execution_count": 4,
      "metadata": {
        "colab": {
          "base_uri": "https://localhost:8080/"
        },
        "id": "_WYEQSzBOvei",
        "outputId": "c19c2a1d-af29-41df-b3f2-219ff91c1743"
      },
      "outputs": [
        {
          "output_type": "stream",
          "name": "stderr",
          "text": [
            "WARNING:absl:`tf.distribute.experimental.TPUStrategy` is deprecated, please use  the non experimental symbol `tf.distribute.TPUStrategy` instead.\n"
          ]
        }
      ],
      "source": [
        "strategy = tf.distribute.experimental.TPUStrategy(resolver)"
      ]
    },
    {
      "cell_type": "code",
      "execution_count": 5,
      "metadata": {
        "colab": {
          "base_uri": "https://localhost:8080/"
        },
        "id": "6V0FpnTdAV0V",
        "outputId": "3324da97-f8af-40dc-eec0-9d88373233fd"
      },
      "outputs": [
        {
          "output_type": "stream",
          "name": "stdout",
          "text": [
            "Drive already mounted at /content/drive; to attempt to forcibly remount, call drive.mount(\"/content/drive\", force_remount=True).\n",
            "/content/drive\n",
            "/content/drive/MyDrive\n",
            "/content/drive/MyDrive/data_from_s\n"
          ]
        }
      ],
      "source": [
        "from google.colab import drive\n",
        "drive.mount('/content/drive')\n",
        "\n",
        "%cd drive\n",
        "%cd MyDrive\n",
        "%cd data_from_s"
      ]
    },
    {
      "cell_type": "code",
      "execution_count": 6,
      "metadata": {
        "id": "16qtUoVV14n3"
      },
      "outputs": [],
      "source": [
        "## 데이터 불러오는 부분 주석 확인해서 전체데이터로 바꿔주세요\n",
        "X = []\n",
        "Y = []\n",
        "for i in range(1, 2): #전체 데이터를 돌릴땐 2->12로 수정해주세요\n",
        "  for h in range(1, 3): # 마찬가지 3->4 수정필요\n",
        "    for s in range(0,2): # 2->6 수정필요\n",
        "      for d in range(0, 180, 60): #180 ->360 수정 필요\n",
        "        if i==3 and h==1 and s ==3 : \n",
        "          continue\n",
        "        if i==3 and h==3 and s ==1 and d==300: \n",
        "          continue\n",
        "        if i==3 and h==3 and s ==5 and d==120: \n",
        "          continue\n",
        "        if i==8 and h==1 and s ==3 and d==120: \n",
        "          continue\n",
        "        if i==9 and h==2 and s ==3 and d==300: \n",
        "          continue ## 이 파일들 이상해서 그냥 안쓸려고 합니다.\n",
        "        landuse = gdal.Open(\"입력데이터/\"+\"Landuse_\"+\"{:006d}\".format(i)+\".tif\")\n",
        "        landuse = np.array(landuse.GetRasterBand(1).ReadAsArray())\n",
        "        landuse = landuse[:1200,:1500]\n",
        "        terrain = gdal.Open(\"입력데이터/\"+\"Terrain_\"+\"{:006d}\".format(i)+\".tif\")\n",
        "        terrain = np.array(terrain.GetRasterBand(1).ReadAsArray())\n",
        "        terrain = terrain[:1200,:1500]\n",
        "        stacked_layer_input = []\n",
        "        stacked_layer_output = []\n",
        "        stacked_layer_input.append(np.dstack((landuse,terrain)))\n",
        "        for j in range(360, 3960, 360):\n",
        "            uz = np.loadtxt(\"0000\" +\"{:02d}\".format(i) +\"_R010_H0\"+ str(h) +\".0_S00\"+str(s)+\".00_D\"+\"{:003d}\".format(d)+'_uz00'+\"{:04d}\".format(j)+'.dw', skiprows = 8, dtype = 'int', encoding='latin-1')\n",
        "            vz = np.loadtxt(\"0000\" +\"{:02d}\".format(i) +\"_R010_H0\"+ str(h) +\".0_S00\"+str(s)+\".00_D\"+\"{:003d}\".format(d)+'_vz00'+\"{:04d}\".format(j)+'.dw', skiprows = 8, dtype = 'int', encoding='latin-1')\n",
        "            stacked_layer_output.append(np.dstack((uz,vz)))\n",
        "        X.append(stacked_layer_input)\n",
        "        Y.append(stacked_layer_output)"
      ]
    },
    {
      "cell_type": "code",
      "execution_count": 8,
      "metadata": {
        "colab": {
          "base_uri": "https://localhost:8080/"
        },
        "id": "aiHS4idi9Euf",
        "outputId": "dfee7913-b67b-43a4-9b85-a5fb24283d66"
      },
      "outputs": [
        {
          "output_type": "execute_result",
          "data": {
            "text/plain": [
              "(12, 1, 1200, 1500, 2)"
            ]
          },
          "metadata": {},
          "execution_count": 8
        }
      ],
      "source": [
        "X = np.array(X)\n",
        "Y = np.array(Y)\n",
        "X.shape"
      ]
    },
    {
      "cell_type": "code",
      "execution_count": 9,
      "metadata": {
        "id": "zQFuiu9LL_m_"
      },
      "outputs": [],
      "source": [
        "grid_size = (60, 75) #이미지 나누는 부분 이부분을 1200과 1500의 약수로 바꿔가면서 테스트\n",
        "\n",
        "X_grid = np.empty((X.shape[0] * int(X.shape[2]/grid_size[0]) * int(X.shape[3]/grid_size[1]),1,grid_size[0],grid_size[1],2))\n",
        "Y_grid = np.empty((Y.shape[0]* int(X.shape[2]/grid_size[0]) * int(X.shape[3]/grid_size[1]),10,grid_size[0],grid_size[1],2))\n",
        "\n",
        "index = 0\n",
        "for k in range(X.shape[0]):\n",
        "    image = X[k, 0, :, :, :]\n",
        "    for i in range(0, image.shape[0], grid_size[0]):\n",
        "        for j in range(0, image.shape[1], grid_size[1]):\n",
        "            cell = image[i:i+grid_size[0], j:j+grid_size[1], :]\n",
        "            X_grid[index] = cell.reshape(1,grid_size[0],grid_size[1],2)\n",
        "            index += 1\n",
        "\n",
        "index = 0\n",
        "for k in range(Y.shape[0]):\n",
        "    image = Y[k, :, :, :, :]\n",
        "    for i in range(0, image.shape[1], grid_size[0]):\n",
        "        for j in range(0, image.shape[2], grid_size[1]):\n",
        "            cell = image[:,i:i+grid_size[0], j:j+grid_size[1], :]\n",
        "            Y_grid[index] = cell.reshape(10,grid_size[0],grid_size[1],2)\n",
        "            index += 1"
      ]
    },
    {
      "cell_type": "code",
      "execution_count": 10,
      "metadata": {
        "colab": {
          "base_uri": "https://localhost:8080/"
        },
        "id": "pk2SBUUeRUEP",
        "outputId": "e64f85cd-6993-4a12-e50c-4e9c46da1737"
      },
      "outputs": [
        {
          "output_type": "execute_result",
          "data": {
            "text/plain": [
              "(4800, 1, 60, 75, 2)"
            ]
          },
          "metadata": {},
          "execution_count": 10
        }
      ],
      "source": [
        "X_grid.shape"
      ]
    },
    {
      "cell_type": "code",
      "source": [
        "plt.figure(figsize=(2,3))#landuse\n",
        "plt.imshow(X_grid[1,0,:,:,0])\n",
        "plt.show()\n",
        "plt.figure(figsize=(2,3)) #terrain\n",
        "plt.imshow(X_grid[1,0,:,:,1])\n",
        "plt.show()\n",
        "plt.figure(figsize=(20,30)) \n",
        "for i in range(Y_grid.shape[1]): #uz\n",
        "    plt.subplot(1,10,i+1)\n",
        "    plt.imshow(Y_grid[1,i,:,:,0])\n",
        "plt.show()\n",
        "plt.figure(figsize=(20,30)) \n",
        "for i in range(Y_grid.shape[1]): #vz\n",
        "    plt.subplot(1,10,i+1)\n",
        "    plt.imshow(Y_grid[1,i,:,:,1])\n",
        "plt.show()\n",
        "plt.figure(figsize=(20,30)) "
      ],
      "metadata": {
        "colab": {
          "base_uri": "https://localhost:8080/",
          "height": 248
        },
        "id": "9hhk1iqGlyCn",
        "outputId": "0743c2b7-5473-484b-b947-12d848c6e2a1"
      },
      "execution_count": 1,
      "outputs": [
        {
          "output_type": "error",
          "ename": "NameError",
          "evalue": "ignored",
          "traceback": [
            "\u001b[0;31m---------------------------------------------------------------------------\u001b[0m",
            "\u001b[0;31mNameError\u001b[0m                                 Traceback (most recent call last)",
            "\u001b[0;32m<ipython-input-1-0ee4b70589a7>\u001b[0m in \u001b[0;36m<cell line: 1>\u001b[0;34m()\u001b[0m\n\u001b[0;32m----> 1\u001b[0;31m \u001b[0mplt\u001b[0m\u001b[0;34m.\u001b[0m\u001b[0mfigure\u001b[0m\u001b[0;34m(\u001b[0m\u001b[0mfigsize\u001b[0m\u001b[0;34m=\u001b[0m\u001b[0;34m(\u001b[0m\u001b[0;36m2\u001b[0m\u001b[0;34m,\u001b[0m\u001b[0;36m3\u001b[0m\u001b[0;34m)\u001b[0m\u001b[0;34m)\u001b[0m\u001b[0;31m#landuse\u001b[0m\u001b[0;34m\u001b[0m\u001b[0;34m\u001b[0m\u001b[0m\n\u001b[0m\u001b[1;32m      2\u001b[0m \u001b[0mplt\u001b[0m\u001b[0;34m.\u001b[0m\u001b[0mimshow\u001b[0m\u001b[0;34m(\u001b[0m\u001b[0mX_grid\u001b[0m\u001b[0;34m[\u001b[0m\u001b[0;36m1\u001b[0m\u001b[0;34m,\u001b[0m\u001b[0;36m0\u001b[0m\u001b[0;34m,\u001b[0m\u001b[0;34m:\u001b[0m\u001b[0;34m,\u001b[0m\u001b[0;34m:\u001b[0m\u001b[0;34m,\u001b[0m\u001b[0;36m0\u001b[0m\u001b[0;34m]\u001b[0m\u001b[0;34m)\u001b[0m\u001b[0;34m\u001b[0m\u001b[0;34m\u001b[0m\u001b[0m\n\u001b[1;32m      3\u001b[0m \u001b[0mplt\u001b[0m\u001b[0;34m.\u001b[0m\u001b[0mshow\u001b[0m\u001b[0;34m(\u001b[0m\u001b[0;34m)\u001b[0m\u001b[0;34m\u001b[0m\u001b[0;34m\u001b[0m\u001b[0m\n\u001b[1;32m      4\u001b[0m \u001b[0mplt\u001b[0m\u001b[0;34m.\u001b[0m\u001b[0mfigure\u001b[0m\u001b[0;34m(\u001b[0m\u001b[0mfigsize\u001b[0m\u001b[0;34m=\u001b[0m\u001b[0;34m(\u001b[0m\u001b[0;36m2\u001b[0m\u001b[0;34m,\u001b[0m\u001b[0;36m3\u001b[0m\u001b[0;34m)\u001b[0m\u001b[0;34m)\u001b[0m \u001b[0;31m#terrain\u001b[0m\u001b[0;34m\u001b[0m\u001b[0;34m\u001b[0m\u001b[0m\n\u001b[1;32m      5\u001b[0m \u001b[0mplt\u001b[0m\u001b[0;34m.\u001b[0m\u001b[0mimshow\u001b[0m\u001b[0;34m(\u001b[0m\u001b[0mX_grid\u001b[0m\u001b[0;34m[\u001b[0m\u001b[0;36m1\u001b[0m\u001b[0;34m,\u001b[0m\u001b[0;36m0\u001b[0m\u001b[0;34m,\u001b[0m\u001b[0;34m:\u001b[0m\u001b[0;34m,\u001b[0m\u001b[0;34m:\u001b[0m\u001b[0;34m,\u001b[0m\u001b[0;36m1\u001b[0m\u001b[0;34m]\u001b[0m\u001b[0;34m)\u001b[0m\u001b[0;34m\u001b[0m\u001b[0;34m\u001b[0m\u001b[0m\n",
            "\u001b[0;31mNameError\u001b[0m: name 'plt' is not defined"
          ]
        }
      ]
    },
    {
      "cell_type": "code",
      "execution_count": 11,
      "metadata": {
        "id": "TkFAVJWwftz5"
      },
      "outputs": [],
      "source": [
        "param = []\n",
        "for i in range(1, 2): #전체 데이터를 돌릴땐 2->12로 수정해주세요\n",
        "  for h in range(1, 3): # 마찬가지 3->4 수정필요\n",
        "    for s in range(0,2): # 2->6 수정필요\n",
        "      for d in range(0, 180, 60): #180 ->360 수정 필요\n",
        "        if i==3 and h==1 and s ==3 : \n",
        "          continue\n",
        "        if i==3 and h==3 and s ==1 and d==300: \n",
        "          continue\n",
        "        if i==3 and h==3 and s ==5 and d==120: \n",
        "          continue\n",
        "        if i==8 and h==1 and s ==3 and d==120: \n",
        "          continue\n",
        "        if i==9 and h==2 and s ==3 and d==300: \n",
        "          continue \n",
        "        for k in range(0,400) :\n",
        "          height = np.full((60, 75), h)\n",
        "          speed = np.full((60,75), s)\n",
        "          direction = np.full((60,75), d)\n",
        "          param.append(np.dstack((height, speed, direction)))"
      ]
    },
    {
      "cell_type": "code",
      "execution_count": 12,
      "metadata": {
        "id": "Of6QHqt3gOXA"
      },
      "outputs": [],
      "source": [
        "param = np.array(param)"
      ]
    },
    {
      "cell_type": "code",
      "source": [
        "X_grid = X_grid.reshape(4800,60,75,2)"
      ],
      "metadata": {
        "id": "GITtJZJJw3AQ"
      },
      "execution_count": 13,
      "outputs": []
    },
    {
      "cell_type": "code",
      "source": [
        "X_final = np.concatenate([param, X_grid], axis=-1) "
      ],
      "metadata": {
        "id": "OJKWL0xXwiBa"
      },
      "execution_count": 14,
      "outputs": []
    },
    {
      "cell_type": "code",
      "source": [
        "Y_final = Y_grid[:,0,:,:,:]\n",
        "Y_final.shape"
      ],
      "metadata": {
        "colab": {
          "base_uri": "https://localhost:8080/"
        },
        "id": "IK0UFUs7x2BA",
        "outputId": "9e04da09-df4b-4c08-c725-83ccc290b47e"
      },
      "execution_count": 15,
      "outputs": [
        {
          "output_type": "execute_result",
          "data": {
            "text/plain": [
              "(4800, 60, 75, 2)"
            ]
          },
          "metadata": {},
          "execution_count": 15
        }
      ]
    },
    {
      "cell_type": "code",
      "execution_count": 16,
      "metadata": {
        "id": "8MCDJetWVSlP",
        "colab": {
          "base_uri": "https://localhost:8080/"
        },
        "outputId": "c62ff72f-59ec-46c4-d83e-f782f03b1805"
      },
      "outputs": [
        {
          "output_type": "stream",
          "name": "stdout",
          "text": [
            "Model: \"sequential\"\n",
            "_________________________________________________________________\n",
            " Layer (type)                Output Shape              Param #   \n",
            "=================================================================\n",
            " conv2d (Conv2D)             (None, 60, 75, 64)        2944      \n",
            "                                                                 \n",
            " conv2d_1 (Conv2D)           (None, 60, 75, 32)        18464     \n",
            "                                                                 \n",
            " conv2d_2 (Conv2D)           (None, 60, 75, 2)         578       \n",
            "                                                                 \n",
            "=================================================================\n",
            "Total params: 21,986\n",
            "Trainable params: 21,986\n",
            "Non-trainable params: 0\n",
            "_________________________________________________________________\n"
          ]
        }
      ],
      "source": [
        "#Terrain, Landuse와 세 개의 정수데이터를 60*75 배열로 채워 합친뒤 이를 입력으로 받아 첫 번째 uz,vz를 만드는 CNN 모델\n",
        "#Terrain, Landuse 두개의 이미지를 conv2d하고 flatten한 뒤 정수 입력변수 3개를 fullyconneted한 후 다시 업샘플링 하는 방식도 시도해 볼만해보임\n",
        "from tensorflow.keras.layers import Input, Conv2D, Conv2DTranspose, Concatenate\n",
        "from tensorflow.keras.models import Sequential, Model\n",
        "import tensorflow.keras.backend as K\n",
        "from keras.utils import get_custom_objects\n",
        "with strategy.scope():\n",
        "  def r2_metric(y_true, y_pred):\n",
        "      SS_res =  K.sum(K.square(y_true - y_pred))\n",
        "      SS_tot = K.sum(K.square(y_true - K.mean(y_true)))\n",
        "      return (1 - SS_res/(SS_tot + K.epsilon()))\n",
        "\n",
        "  get_custom_objects().update({'r2_metric': r2_metric})\n",
        "\n",
        "  model = Sequential()\n",
        "  model.add(Conv2D(64, (3, 3), activation='relu', padding='same', input_shape=(60, 75, 5)))\n",
        "  model.add(Conv2D(32, (3, 3), activation='relu', padding='same'))\n",
        "  model.add(Conv2D(2, (3, 3), activation='sigmoid', padding='same'))\n",
        "\n",
        "  model.compile(optimizer='adam', loss='mse',metrics='r2_metric')\n",
        "  model.summary()"
      ]
    },
    {
      "cell_type": "code",
      "source": [
        "#코랩 세션 다운... 샘플 수가 많아서 그런것으로 생각 됨\n",
        "from tensorflow.keras.callbacks import EarlyStopping\n",
        "from sklearn.model_selection import train_test_split\n",
        "\n",
        "x_train, x_val, y_train, y_val = train_test_split(X_final, Y_final, test_size=0.2, shuffle=True)\n",
        "with strategy.scope():\n",
        "  early_stop = EarlyStopping(monitor='val_loss',min_delta=0.001, patience=3, verbose=1, mode='min',restore_best_weights=True)\n",
        "  history = model.fit(x=x_train, y=y_train, validation_data=(x_val, y_val), epochs=400, callbacks=[early_stop])"
      ],
      "metadata": {
        "id": "aARRPAlWyPIf"
      },
      "execution_count": null,
      "outputs": []
    }
  ],
  "metadata": {
    "accelerator": "TPU",
    "colab": {
      "provenance": [],
      "mount_file_id": "1EhvhMms9IJ1-v_7CC71j3LhNMkcMpPFV",
      "authorship_tag": "ABX9TyNrH5i69BNCBakmCKimmsNj",
      "include_colab_link": true
    },
    "gpuClass": "standard",
    "kernelspec": {
      "display_name": "Python 3",
      "name": "python3"
    },
    "language_info": {
      "name": "python"
    }
  },
  "nbformat": 4,
  "nbformat_minor": 0
}