{
  "nbformat": 4,
  "nbformat_minor": 0,
  "metadata": {
    "colab": {
      "provenance": [],
      "mount_file_id": "1EhvhMms9IJ1-v_7CC71j3LhNMkcMpPFV",
      "authorship_tag": "ABX9TyPz8U03UmL09cf45tbpgoP3",
      "include_colab_link": true
    },
    "kernelspec": {
      "name": "python3",
      "display_name": "Python 3"
    },
    "language_info": {
      "name": "python"
    },
    "accelerator": "TPU",
    "gpuClass": "standard"
  },
  "cells": [
    {
      "cell_type": "markdown",
      "metadata": {
        "id": "view-in-github",
        "colab_type": "text"
      },
      "source": [
        "<a href=\"https://colab.research.google.com/github/Kogo0813/Windroad8/blob/main/TPUver_windpredict_data_from_s.ipynb\" target=\"_parent\"><img src=\"https://colab.research.google.com/assets/colab-badge.svg\" alt=\"Open In Colab\"/></a>"
      ]
    },
    {
      "cell_type": "code",
      "source": [
        "!echo $COLAB_TPU_ADDR #코랩에서 런타임->런타임 유형 변경 -> TPU로 변경"
      ],
      "metadata": {
        "colab": {
          "base_uri": "https://localhost:8080/"
        },
        "id": "7YCezYnaOXLx",
        "outputId": "d1a9cb40-1a3e-462d-9a1b-3f44f300073e"
      },
      "execution_count": 1,
      "outputs": [
        {
          "output_type": "stream",
          "name": "stdout",
          "text": [
            "10.26.2.114:8470\n"
          ]
        }
      ]
    },
    {
      "cell_type": "code",
      "source": [
        "import os\n",
        "import numpy as np\n",
        "import pandas as pd\n",
        "import matplotlib.pyplot as plt\n",
        "import tensorflow as tf\n",
        "from tensorflow import keras\n",
        "from tensorflow.keras import layers\n",
        "from osgeo import gdal\n",
        "\n",
        "# TPU gRPC 접근 URI\n",
        "TPU_PATH = f\"grpc://{os.environ['COLAB_TPU_ADDR']}\"\n",
        "resolver = tf.distribute.cluster_resolver.TPUClusterResolver(tpu=TPU_PATH)\n",
        "tf.config.experimental_connect_to_cluster(resolver)\n",
        "tf.tpu.experimental.initialize_tpu_system(resolver)"
      ],
      "metadata": {
        "colab": {
          "base_uri": "https://localhost:8080/"
        },
        "id": "NemE-454OY56",
        "outputId": "f3c21dac-29b5-49e0-a772-21b50a90acdb"
      },
      "execution_count": 5,
      "outputs": [
        {
          "output_type": "execute_result",
          "data": {
            "text/plain": [
              "<tensorflow.python.tpu.topology.Topology at 0x7fa5720581c0>"
            ]
          },
          "metadata": {},
          "execution_count": 5
        }
      ]
    },
    {
      "cell_type": "code",
      "source": [
        "strategy = tf.distribute.experimental.TPUStrategy(resolver)"
      ],
      "metadata": {
        "colab": {
          "base_uri": "https://localhost:8080/"
        },
        "id": "_WYEQSzBOvei",
        "outputId": "e561274c-a3ee-4c7f-bb5e-7a1a2f09cd1f"
      },
      "execution_count": 6,
      "outputs": [
        {
          "output_type": "stream",
          "name": "stderr",
          "text": [
            "WARNING:absl:`tf.distribute.experimental.TPUStrategy` is deprecated, please use  the non experimental symbol `tf.distribute.TPUStrategy` instead.\n"
          ]
        }
      ]
    },
    {
      "cell_type": "code",
      "execution_count": 7,
      "metadata": {
        "id": "6V0FpnTdAV0V",
        "colab": {
          "base_uri": "https://localhost:8080/"
        },
        "outputId": "dd03aa19-faab-43cc-e2d3-ba877aa898eb"
      },
      "outputs": [
        {
          "output_type": "stream",
          "name": "stdout",
          "text": [
            "Drive already mounted at /content/drive; to attempt to forcibly remount, call drive.mount(\"/content/drive\", force_remount=True).\n",
            "/content/drive\n",
            "/content/drive/MyDrive\n",
            "/content/drive/MyDrive/data_from_s\n"
          ]
        }
      ],
      "source": [
        "from google.colab import drive\n",
        "drive.mount('/content/drive')\n",
        "\n",
        "%cd drive\n",
        "%cd MyDrive\n",
        "%cd data_from_s"
      ]
    },
    {
      "cell_type": "code",
      "source": [
        "from tensorflow.keras.models import Sequential\n",
        "from tensorflow.keras.layers import ConvLSTM2D, Dense, Flatten\n",
        "import tensorflow.keras.backend as K\n",
        "from keras.utils import get_custom_objects\n",
        "\n",
        "with strategy.scope():\n",
        "  def r2_metric(y_true, y_pred):\n",
        "      SS_res =  K.sum(K.square(y_true - y_pred))\n",
        "      SS_tot = K.sum(K.square(y_true - K.mean(y_true)))\n",
        "      return (1 - SS_res/(SS_tot + K.epsilon()))\n",
        "\n",
        "  get_custom_objects().update({'r2_metric': r2_metric})\n",
        "  width = 75\n",
        "  height = 60\n",
        "  channels = 7\n",
        "  model = Sequential([\n",
        "     keras.Input(shape=(None,height,width,channels)),\n",
        "      layers.ConvLSTM2D(filters=32, kernel_size=(3, 3), padding=\"same\", return_sequences=True),\n",
        "      layers.BatchNormalization(),\n",
        "     layers.ConvLSTM2D(filters=32, kernel_size=(3, 3), padding=\"same\", return_sequences=True),\n",
        "      layers.BatchNormalization(),\n",
        "     layers.ConvLSTM2D(filters=16, kernel_size=(3, 3), padding=\"same\", return_sequences=False),\n",
        "     layers.BatchNormalization(),\n",
        "     layers.Conv2D(filters=2,kernel_size=(3,3),activation=\"sigmoid\",padding=\"same\"),\n",
        "  ])\n",
        "  # 모델 컴파일\n",
        "  model.compile(optimizer='adam', loss='mse',metrics='r2_metric')\n",
        "  model.summary()"
      ],
      "metadata": {
        "colab": {
          "base_uri": "https://localhost:8080/"
        },
        "id": "a2buTa3G4Mw8",
        "outputId": "28735a56-598b-4024-985a-a6553c0342e7"
      },
      "execution_count": 8,
      "outputs": [
        {
          "output_type": "stream",
          "name": "stdout",
          "text": [
            "Model: \"sequential\"\n",
            "_________________________________________________________________\n",
            " Layer (type)                Output Shape              Param #   \n",
            "=================================================================\n",
            " conv_lstm2d (ConvLSTM2D)    (None, None, 60, 75, 32)  45056     \n",
            "                                                                 \n",
            " batch_normalization (BatchN  (None, None, 60, 75, 32)  128      \n",
            " ormalization)                                                   \n",
            "                                                                 \n",
            " conv_lstm2d_1 (ConvLSTM2D)  (None, None, 60, 75, 32)  73856     \n",
            "                                                                 \n",
            " batch_normalization_1 (Batc  (None, None, 60, 75, 32)  128      \n",
            " hNormalization)                                                 \n",
            "                                                                 \n",
            " conv_lstm2d_2 (ConvLSTM2D)  (None, 60, 75, 16)        27712     \n",
            "                                                                 \n",
            " batch_normalization_2 (Batc  (None, 60, 75, 16)       64        \n",
            " hNormalization)                                                 \n",
            "                                                                 \n",
            " conv2d (Conv2D)             (None, 60, 75, 2)         290       \n",
            "                                                                 \n",
            "=================================================================\n",
            "Total params: 147,234\n",
            "Trainable params: 147,074\n",
            "Non-trainable params: 160\n",
            "_________________________________________________________________\n"
          ]
        }
      ]
    },
    {
      "cell_type": "code",
      "source": [
        "from skimage.measure import block_reduce ## 필독 : 1200 * 1500의 이미지 데이터가 코랩에서 돌리기에 너무 큰 관계로 60*75로 다운샘플링해서 사용하였습니다.\n",
        "from sklearn.preprocessing import MinMaxScaler # 입력 정규화 Min-Max 스케일링 사용\n",
        "\n",
        "\n",
        "X = []\n",
        "Y = []\n",
        "for i in range(1, 12):\n",
        "  for h in range(1, 4):\n",
        "    for s in range(0,6):\n",
        "      for d in range(0, 360, 60):\n",
        "        height = np.full((60,75),(h-1)/2) #지역풍 높이는 1부터 3까지 있으므로 이렇게 정규화시킴\n",
        "        speed = np.full((60,75), s/5) #속도도 마찬가지 0부터 5까지\n",
        "        direction = np.full((60,75),d/300) # 방향 0부터 300까지\n",
        "        uz_zero = np.full((60,75),0)\n",
        "        vz_zero = np.full((60,75),0)\n",
        "        scaler = MinMaxScaler()\n",
        "        landuse = gdal.Open(\"입력데이터/\"+\"Landuse_\"+\"{:006d}\".format(i)+\".tif\")\n",
        "        landuse = np.array(landuse.GetRasterBand(1).ReadAsArray())\n",
        "        terrain = gdal.Open(\"입력데이터/\"+\"Terrain\"+\"{:006d}\".format(i)+\".tif\")\n",
        "        terrain = np.array(terrain.GetRasterBand(1).ReadAsArray())\n",
        "        landuse = block_reduce(landuse, block_size=(20, 20), func=np.mean)\n",
        "        terrain = block_reduce(terrain, block_size=(20, 20), func=np.mean)\n",
        "        terrain = scaler.fit_transform(terrain)\n",
        "        landuse = scaler.fit_transform(landuse)\n",
        "        stacked_layer_input = []\n",
        "        stacked_layer_input.append(np.dstack((uz_zero,vz_zero,landuse,terrain,direction,speed,height)))\n",
        "        for j in range(360, 3960, 360):\n",
        "            uz = np.loadtxt(\"0000\" +\"{:02d}\".format(i) +\"_R010_H0\"+ str(h) +\".0_S00\"+str(s)+\".00_D\"+\"{:003d}\".format(d)+'_uz00'+\"{:04d}\".format(j)+'.dw', skiprows = 8, dtype = 'int', encoding='latin-1')\n",
        "            vz = np.loadtxt(\"0000\" +\"{:02d}\".format(i) +\"_R010_H0\"+ str(h) +\".0_S00\"+str(s)+\".00_D\"+\"{:003d}\".format(d)+'_vz00'+\"{:04d}\".format(j)+'.dw', skiprows = 8, dtype = 'int', encoding='latin-1')\n",
        "            uz = block_reduce(uz, block_size=(20, 20), func=np.mean)\n",
        "            vz = block_reduce(vz, block_size=(20, 20), func=np.mean)\n",
        "            uz = scaler.fit_transform(uz)\n",
        "            vz = scaler.fit_transform(vz)\n",
        "            if j == 3600:\n",
        "              stacked_layer_output = np.dstack((uz,vz))\n",
        "            else:\n",
        "              stacked_layer_input.append(np.dstack((uz,vz,landuse,terrain,direction,speed,height)))\n",
        "        X.append(stacked_layer_input)\n",
        "        Y.append(stacked_layer_output)\n"
      ],
      "metadata": {
        "id": "y6tgJ9lB7VZJ",
        "colab": {
          "base_uri": "https://localhost:8080/",
          "height": 248
        },
        "outputId": "9c330adc-cc3a-45ec-e4a3-aeb339664894"
      },
      "execution_count": 9,
      "outputs": [
        {
          "output_type": "error",
          "ename": "AttributeError",
          "evalue": "ignored",
          "traceback": [
            "\u001b[0;31m---------------------------------------------------------------------------\u001b[0m",
            "\u001b[0;31mAttributeError\u001b[0m                            Traceback (most recent call last)",
            "\u001b[0;32m<ipython-input-9-007997430476>\u001b[0m in \u001b[0;36m<cell line: 7>\u001b[0;34m()\u001b[0m\n\u001b[1;32m     16\u001b[0m         \u001b[0mscaler\u001b[0m \u001b[0;34m=\u001b[0m \u001b[0mMinMaxScaler\u001b[0m\u001b[0;34m(\u001b[0m\u001b[0;34m)\u001b[0m\u001b[0;34m\u001b[0m\u001b[0;34m\u001b[0m\u001b[0m\n\u001b[1;32m     17\u001b[0m         \u001b[0mlanduse\u001b[0m \u001b[0;34m=\u001b[0m \u001b[0mgdal\u001b[0m\u001b[0;34m.\u001b[0m\u001b[0mOpen\u001b[0m\u001b[0;34m(\u001b[0m\u001b[0;34m\"입력데이터/\"\u001b[0m\u001b[0;34m+\u001b[0m\u001b[0;34m\"Landuse_\"\u001b[0m\u001b[0;34m+\u001b[0m\u001b[0;34m\"{:006d}\"\u001b[0m\u001b[0;34m.\u001b[0m\u001b[0mformat\u001b[0m\u001b[0;34m(\u001b[0m\u001b[0mi\u001b[0m\u001b[0;34m)\u001b[0m\u001b[0;34m+\u001b[0m\u001b[0;34m\".tif\"\u001b[0m\u001b[0;34m)\u001b[0m\u001b[0;34m\u001b[0m\u001b[0;34m\u001b[0m\u001b[0m\n\u001b[0;32m---> 18\u001b[0;31m         \u001b[0mlanduse\u001b[0m \u001b[0;34m=\u001b[0m \u001b[0mnp\u001b[0m\u001b[0;34m.\u001b[0m\u001b[0marray\u001b[0m\u001b[0;34m(\u001b[0m\u001b[0mlanduse\u001b[0m\u001b[0;34m.\u001b[0m\u001b[0mGetRasterBand\u001b[0m\u001b[0;34m(\u001b[0m\u001b[0;36m1\u001b[0m\u001b[0;34m)\u001b[0m\u001b[0;34m.\u001b[0m\u001b[0mReadAsArray\u001b[0m\u001b[0;34m(\u001b[0m\u001b[0;34m)\u001b[0m\u001b[0;34m)\u001b[0m\u001b[0;34m\u001b[0m\u001b[0;34m\u001b[0m\u001b[0m\n\u001b[0m\u001b[1;32m     19\u001b[0m         \u001b[0mterrain\u001b[0m \u001b[0;34m=\u001b[0m \u001b[0mgdal\u001b[0m\u001b[0;34m.\u001b[0m\u001b[0mOpen\u001b[0m\u001b[0;34m(\u001b[0m\u001b[0;34m\"입력데이터/\"\u001b[0m\u001b[0;34m+\u001b[0m\u001b[0;34m\"Terrain\"\u001b[0m\u001b[0;34m+\u001b[0m\u001b[0;34m\"{:006d}\"\u001b[0m\u001b[0;34m.\u001b[0m\u001b[0mformat\u001b[0m\u001b[0;34m(\u001b[0m\u001b[0mi\u001b[0m\u001b[0;34m)\u001b[0m\u001b[0;34m+\u001b[0m\u001b[0;34m\".tif\"\u001b[0m\u001b[0;34m)\u001b[0m\u001b[0;34m\u001b[0m\u001b[0;34m\u001b[0m\u001b[0m\n\u001b[1;32m     20\u001b[0m         \u001b[0mterrain\u001b[0m \u001b[0;34m=\u001b[0m \u001b[0mnp\u001b[0m\u001b[0;34m.\u001b[0m\u001b[0marray\u001b[0m\u001b[0;34m(\u001b[0m\u001b[0mterrain\u001b[0m\u001b[0;34m.\u001b[0m\u001b[0mGetRasterBand\u001b[0m\u001b[0;34m(\u001b[0m\u001b[0;36m1\u001b[0m\u001b[0;34m)\u001b[0m\u001b[0;34m.\u001b[0m\u001b[0mReadAsArray\u001b[0m\u001b[0;34m(\u001b[0m\u001b[0;34m)\u001b[0m\u001b[0;34m)\u001b[0m\u001b[0;34m\u001b[0m\u001b[0;34m\u001b[0m\u001b[0m\n",
            "\u001b[0;31mAttributeError\u001b[0m: 'NoneType' object has no attribute 'GetRasterBand'"
          ]
        }
      ]
    },
    {
      "cell_type": "code",
      "source": [
        "X = np.array(X)\n",
        "Y = np.array(Y)\n",
        "X.shape"
      ],
      "metadata": {
        "colab": {
          "base_uri": "https://localhost:8080/"
        },
        "id": "0bfbV8PJ_jyb",
        "outputId": "5bafce5b-28ed-4dfa-b54d-094113bcf86a"
      },
      "execution_count": null,
      "outputs": [
        {
          "output_type": "execute_result",
          "data": {
            "text/plain": [
              "(36, 10, 60, 75, 7)"
            ]
          },
          "metadata": {},
          "execution_count": 6
        }
      ]
    },
    {
      "cell_type": "code",
      "source": [
        "from tensorflow.keras.callbacks import EarlyStopping\n",
        "early_stop = EarlyStopping(monitor='val_loss', patience=5, verbose=1)\n",
        "history = model.fit(x=X, y=Y, validation_split=0.2, epochs=10, callbacks=[early_stop])"
      ],
      "metadata": {
        "colab": {
          "base_uri": "https://localhost:8080/"
        },
        "id": "bqKR5L2J_qC9",
        "outputId": "b3ded002-6e4f-41f7-e15b-a25f46082890"
      },
      "execution_count": null,
      "outputs": [
        {
          "output_type": "stream",
          "name": "stdout",
          "text": [
            "Epoch 1/10\n",
            "1/1 [==============================] - 119s 119s/step - loss: 119.8532 - r2_metric: -0.0058 - val_loss: 124.8628 - val_r2_metric: -0.0015\n",
            "Epoch 2/10\n",
            "1/1 [==============================] - 87s 87s/step - loss: 116.6796 - r2_metric: 0.0208 - val_loss: 124.6428 - val_r2_metric: 2.6369e-04\n",
            "Epoch 3/10\n",
            "1/1 [==============================] - 91s 91s/step - loss: 115.2920 - r2_metric: 0.0324 - val_loss: 124.4411 - val_r2_metric: 0.0019\n",
            "Epoch 4/10\n",
            "1/1 [==============================] - 89s 89s/step - loss: 114.2634 - r2_metric: 0.0411 - val_loss: 124.2992 - val_r2_metric: 0.0030\n",
            "Epoch 5/10\n",
            "1/1 [==============================] - 94s 94s/step - loss: 113.6315 - r2_metric: 0.0464 - val_loss: 124.1928 - val_r2_metric: 0.0039\n",
            "Epoch 6/10\n",
            "1/1 [==============================] - 93s 93s/step - loss: 113.2830 - r2_metric: 0.0493 - val_loss: 124.0091 - val_r2_metric: 0.0053\n",
            "Epoch 7/10\n",
            "1/1 [==============================] - 87s 87s/step - loss: 112.9874 - r2_metric: 0.0518 - val_loss: 123.8017 - val_r2_metric: 0.0070\n",
            "Epoch 8/10\n",
            "1/1 [==============================] - 89s 89s/step - loss: 112.8099 - r2_metric: 0.0533 - val_loss: 123.6008 - val_r2_metric: 0.0086\n",
            "Epoch 9/10\n",
            "1/1 [==============================] - 88s 88s/step - loss: 112.6920 - r2_metric: 0.0543 - val_loss: 123.4054 - val_r2_metric: 0.0102\n",
            "Epoch 10/10\n",
            "1/1 [==============================] - 87s 87s/step - loss: 112.5737 - r2_metric: 0.0553 - val_loss: 123.2285 - val_r2_metric: 0.0116\n"
          ]
        }
      ]
    }
  ]
}